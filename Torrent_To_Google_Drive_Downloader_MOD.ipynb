{
  "nbformat": 4,
  "nbformat_minor": 0,
  "metadata": {
    "colab": {
      "name": "Torrent_To_Google_Drive_Downloader.ipynb",
      "version": "0.3.2",
      "provenance": [],
      "collapsed_sections": [],
      "toc_visible": true
    },
    "kernelspec": {
      "name": "python3",
      "display_name": "Python 3"
    },
    "accelerator": "GPU"
  },
  "cells": [
    {
      "cell_type": "markdown",
      "metadata": {
        "id": "aQuWDmfm9YOi",
        "colab_type": "text"
      },
      "source": [
        "# GDrive Downloader "
      ]
    },
    {
      "cell_type": "markdown",
      "metadata": {
        "id": "Uf90U73y9YOj",
        "colab_type": "text"
      },
      "source": [
        "### Mount Google Drive\n",
        "To stream files we need to mount Google Drive."
      ]
    },
    {
      "cell_type": "code",
      "metadata": {
        "colab_type": "code",
        "id": "oWM9l2fvtuvO",
        "colab": {}
      },
      "source": [
        "from google.colab import drive\n",
        "drive.mount('/content/drive')"
      ],
      "execution_count": 0,
      "outputs": []
    },
    {
      "cell_type": "markdown",
      "metadata": {
        "id": "NaFa7M-e9YOr",
        "colab_type": "text"
      },
      "source": [
        "## Install requirements"
      ]
    },
    {
      "cell_type": "markdown",
      "metadata": {
        "id": "88NU289cblmf",
        "colab_type": "text"
      },
      "source": [
        "####For DDL"
      ]
    },
    {
      "cell_type": "code",
      "metadata": {
        "id": "rtASPLhQ03SY",
        "colab_type": "code",
        "colab": {}
      },
      "source": [
        "!sudo pip3 install python3-wget"
      ],
      "execution_count": 0,
      "outputs": []
    },
    {
      "cell_type": "markdown",
      "metadata": {
        "id": "-yNqTkt9boCe",
        "colab_type": "text"
      },
      "source": [
        "####For Torrent"
      ]
    },
    {
      "cell_type": "code",
      "metadata": {
        "colab_type": "code",
        "id": "m6hF0emftx4h",
        "colab": {}
      },
      "source": [
        "!apt install python3-libtorrent"
      ],
      "execution_count": 0,
      "outputs": []
    },
    {
      "cell_type": "markdown",
      "metadata": {
        "id": "V8QxhqFqbqRc",
        "colab_type": "text"
      },
      "source": [
        "####For Mega"
      ]
    },
    {
      "cell_type": "code",
      "metadata": {
        "id": "iILHNrPESl_6",
        "colab_type": "code",
        "colab": {}
      },
      "source": [
        "!sudo apt-get install megatools"
      ],
      "execution_count": 0,
      "outputs": []
    },
    {
      "cell_type": "markdown",
      "metadata": {
        "id": "m-a1CUP39YOu",
        "colab_type": "text"
      },
      "source": [
        "## Start Download"
      ]
    },
    {
      "cell_type": "markdown",
      "metadata": {
        "id": "OMYXxj_KEaA1",
        "colab_type": "text"
      },
      "source": [
        "####DDL"
      ]
    },
    {
      "cell_type": "code",
      "metadata": {
        "id": "bxCmBPdPHT1F",
        "colab_type": "code",
        "colab": {}
      },
      "source": [
        "import os\n",
        "import subprocess\n",
        "import re\n",
        "\n",
        "link = input(\"Paste the DDL Link: \")\n",
        "savepath = \"/content/drive/My Drive/Downloads\"\n",
        "\n",
        "name = os.path.basename(link)\n",
        "file = name.split(\"?\", maxsplit=1)[0]\n",
        "filename = re.sub('%20', ' ', file)\n",
        "\n",
        "subprocess.call(\"wget '{}' -P '{}/{}'\".format(link, savepath, filename), shell=True)"
      ],
      "execution_count": 0,
      "outputs": []
    },
    {
      "cell_type": "markdown",
      "metadata": {
        "id": "L66nNL-iajx9",
        "colab_type": "text"
      },
      "source": [
        "###Torrent"
      ]
    },
    {
      "cell_type": "markdown",
      "metadata": {
        "id": "R5CfqXUchoLl",
        "colab_type": "text"
      },
      "source": [
        "Load Torrent File (if you have magnet link then skip)"
      ]
    },
    {
      "cell_type": "code",
      "metadata": {
        "colab_type": "code",
        "id": "0et2A6N3udA0",
        "colab": {}
      },
      "source": [
        "from google.colab import files\n",
        "uploaded = files.upload()"
      ],
      "execution_count": 0,
      "outputs": []
    },
    {
      "cell_type": "markdown",
      "metadata": {
        "id": "Bf3h1BtdEUAC",
        "colab_type": "text"
      },
      "source": [
        "Torrent Downlad"
      ]
    },
    {
      "cell_type": "code",
      "metadata": {
        "colab_type": "code",
        "id": "DBNoYYoSuDBT",
        "colab": {}
      },
      "source": [
        "import libtorrent as lt\n",
        "import time\n",
        "import sys\n",
        "\n",
        "ses = lt.session()\n",
        "ses.listen_on(6881, 6891)\n",
        "\n",
        "try:\n",
        "  info = lt.torrent_info(list(uploaded.keys())[0])\n",
        "  h = ses.add_torrent({\"ti\": info, \"save_path\": \"/content/drive/My Drive/Torrent\"})\n",
        "  print(\"starting\", h.name())\n",
        "\n",
        "except:\n",
        "  link = input(\"Paste the magnet link: \") \n",
        "  h = lt.add_magnet_uri(ses, link, {\"save_path\": \"/content/drive/My Drive/Torrent\"})\n",
        "  while (not h.has_metadata()):\n",
        "    time.sleep(.1)\n",
        "  info = h.get_torrent_info()\n",
        "  print(\"starting\", h.name())\n",
        "    \n",
        "while not h.is_seed():\n",
        "    s = h.status()\n",
        "\n",
        "    state_str = [\n",
        "        \"queued\",\n",
        "        \"checking\",\n",
        "        \"downloading metadata\",\n",
        "        \"downloading\",\n",
        "        \"finished\",\n",
        "        \"seeding\",\n",
        "        \"allocating\",\n",
        "        \"checking fastresume\",\n",
        "    ]\n",
        "    print(\n",
        "        \"\\r%.2f%% complete (down: %.1f kB/s up: %.1f kB/s peers: %d) %s\"\n",
        "        % (\n",
        "            s.progress * 100,\n",
        "            s.download_rate / 1024,\n",
        "            s.upload_rate / 1024,\n",
        "            s.num_peers,\n",
        "            state_str[s.state],\n",
        "        )\n",
        "    )\n",
        "    sys.stdout.flush()\n",
        "    time.sleep(10)\n",
        "\n",
        "print(h.name(), \"complete\")"
      ],
      "execution_count": 0,
      "outputs": []
    },
    {
      "cell_type": "markdown",
      "metadata": {
        "id": "z6KELt6iSwU6",
        "colab_type": "text"
      },
      "source": [
        "###MEGA (Mega gives 5GB per 8hour)"
      ]
    },
    {
      "cell_type": "code",
      "metadata": {
        "id": "XsuQ5aW4cOVd",
        "colab_type": "code",
        "colab": {}
      },
      "source": [
        "import os\n",
        "import subprocess\n",
        "\n",
        "link = input(\"Paste the Mega Public Link: \")\n",
        "savepath = \"/content/drive/My Drive/Downloads_Mega/\"\n",
        "\n",
        "subprocess.call(\"megadl --path '{}' - '{}'\".format(savepath, link), shell=True)"
      ],
      "execution_count": 0,
      "outputs": []
    }
  ]
}